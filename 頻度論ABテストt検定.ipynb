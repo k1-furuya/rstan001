{
  "nbformat": 4,
  "nbformat_minor": 0,
  "metadata": {
    "colab": {
      "provenance": [],
      "authorship_tag": "ABX9TyMG5knLqg5g2gi/8nFpe+AS",
      "include_colab_link": true
    },
    "kernelspec": {
      "name": "python3",
      "display_name": "Python 3"
    },
    "language_info": {
      "name": "python"
    }
  },
  "cells": [
    {
      "cell_type": "markdown",
      "metadata": {
        "id": "view-in-github",
        "colab_type": "text"
      },
      "source": [
        "<a href=\"https://colab.research.google.com/github/k1-furuya/rstan001/blob/main/%E9%A0%BB%E5%BA%A6%E8%AB%96AB%E3%83%86%E3%82%B9%E3%83%88t%E6%A4%9C%E5%AE%9A.ipynb\" target=\"_parent\"><img src=\"https://colab.research.google.com/assets/colab-badge.svg\" alt=\"Open In Colab\"/></a>"
      ]
    },
    {
      "cell_type": "markdown",
      "source": [
        "従来のWEBページAと、改善後のページBをランダムに表示するABテストを実施し、その効果を検証する。意図的にサンプルサイズは小さくしている。\n"
      ],
      "metadata": {
        "id": "3-hIQkmQqvvF"
      }
    },
    {
      "cell_type": "code",
      "source": [
        "import pandas as pd\n",
        "# 使うデータの視覚化\n",
        "data = {\n",
        "    'ページ': ['従来のページ', '改善後のページ'],\n",
        "    '表示数': [40, 25],\n",
        "    'クリック数': [2, 2]\n",
        "}\n",
        "df = pd.DataFrame(data)\n",
        "\n",
        "df"
      ],
      "metadata": {
        "colab": {
          "base_uri": "https://localhost:8080/",
          "height": 125
        },
        "id": "9liL_gfbsZ8J",
        "outputId": "78c2b06e-217d-4e94-fda8-70d15254d1fb"
      },
      "execution_count": 1,
      "outputs": [
        {
          "output_type": "execute_result",
          "data": {
            "text/plain": [
              "       ページ  表示数  クリック数\n",
              "0   従来のページ   40      2\n",
              "1  改善後のページ   25      2"
            ],
            "text/html": [
              "\n",
              "  <div id=\"df-b8bb6648-6c2d-4cd7-967b-290e460e3c21\" class=\"colab-df-container\">\n",
              "    <div>\n",
              "<style scoped>\n",
              "    .dataframe tbody tr th:only-of-type {\n",
              "        vertical-align: middle;\n",
              "    }\n",
              "\n",
              "    .dataframe tbody tr th {\n",
              "        vertical-align: top;\n",
              "    }\n",
              "\n",
              "    .dataframe thead th {\n",
              "        text-align: right;\n",
              "    }\n",
              "</style>\n",
              "<table border=\"1\" class=\"dataframe\">\n",
              "  <thead>\n",
              "    <tr style=\"text-align: right;\">\n",
              "      <th></th>\n",
              "      <th>ページ</th>\n",
              "      <th>表示数</th>\n",
              "      <th>クリック数</th>\n",
              "    </tr>\n",
              "  </thead>\n",
              "  <tbody>\n",
              "    <tr>\n",
              "      <th>0</th>\n",
              "      <td>従来のページ</td>\n",
              "      <td>40</td>\n",
              "      <td>2</td>\n",
              "    </tr>\n",
              "    <tr>\n",
              "      <th>1</th>\n",
              "      <td>改善後のページ</td>\n",
              "      <td>25</td>\n",
              "      <td>2</td>\n",
              "    </tr>\n",
              "  </tbody>\n",
              "</table>\n",
              "</div>\n",
              "    <div class=\"colab-df-buttons\">\n",
              "\n",
              "  <div class=\"colab-df-container\">\n",
              "    <button class=\"colab-df-convert\" onclick=\"convertToInteractive('df-b8bb6648-6c2d-4cd7-967b-290e460e3c21')\"\n",
              "            title=\"Convert this dataframe to an interactive table.\"\n",
              "            style=\"display:none;\">\n",
              "\n",
              "  <svg xmlns=\"http://www.w3.org/2000/svg\" height=\"24px\" viewBox=\"0 -960 960 960\">\n",
              "    <path d=\"M120-120v-720h720v720H120Zm60-500h600v-160H180v160Zm220 220h160v-160H400v160Zm0 220h160v-160H400v160ZM180-400h160v-160H180v160Zm440 0h160v-160H620v160ZM180-180h160v-160H180v160Zm440 0h160v-160H620v160Z\"/>\n",
              "  </svg>\n",
              "    </button>\n",
              "\n",
              "  <style>\n",
              "    .colab-df-container {\n",
              "      display:flex;\n",
              "      gap: 12px;\n",
              "    }\n",
              "\n",
              "    .colab-df-convert {\n",
              "      background-color: #E8F0FE;\n",
              "      border: none;\n",
              "      border-radius: 50%;\n",
              "      cursor: pointer;\n",
              "      display: none;\n",
              "      fill: #1967D2;\n",
              "      height: 32px;\n",
              "      padding: 0 0 0 0;\n",
              "      width: 32px;\n",
              "    }\n",
              "\n",
              "    .colab-df-convert:hover {\n",
              "      background-color: #E2EBFA;\n",
              "      box-shadow: 0px 1px 2px rgba(60, 64, 67, 0.3), 0px 1px 3px 1px rgba(60, 64, 67, 0.15);\n",
              "      fill: #174EA6;\n",
              "    }\n",
              "\n",
              "    .colab-df-buttons div {\n",
              "      margin-bottom: 4px;\n",
              "    }\n",
              "\n",
              "    [theme=dark] .colab-df-convert {\n",
              "      background-color: #3B4455;\n",
              "      fill: #D2E3FC;\n",
              "    }\n",
              "\n",
              "    [theme=dark] .colab-df-convert:hover {\n",
              "      background-color: #434B5C;\n",
              "      box-shadow: 0px 1px 3px 1px rgba(0, 0, 0, 0.15);\n",
              "      filter: drop-shadow(0px 1px 2px rgba(0, 0, 0, 0.3));\n",
              "      fill: #FFFFFF;\n",
              "    }\n",
              "  </style>\n",
              "\n",
              "    <script>\n",
              "      const buttonEl =\n",
              "        document.querySelector('#df-b8bb6648-6c2d-4cd7-967b-290e460e3c21 button.colab-df-convert');\n",
              "      buttonEl.style.display =\n",
              "        google.colab.kernel.accessAllowed ? 'block' : 'none';\n",
              "\n",
              "      async function convertToInteractive(key) {\n",
              "        const element = document.querySelector('#df-b8bb6648-6c2d-4cd7-967b-290e460e3c21');\n",
              "        const dataTable =\n",
              "          await google.colab.kernel.invokeFunction('convertToInteractive',\n",
              "                                                    [key], {});\n",
              "        if (!dataTable) return;\n",
              "\n",
              "        const docLinkHtml = 'Like what you see? Visit the ' +\n",
              "          '<a target=\"_blank\" href=https://colab.research.google.com/notebooks/data_table.ipynb>data table notebook</a>'\n",
              "          + ' to learn more about interactive tables.';\n",
              "        element.innerHTML = '';\n",
              "        dataTable['output_type'] = 'display_data';\n",
              "        await google.colab.output.renderOutput(dataTable, element);\n",
              "        const docLink = document.createElement('div');\n",
              "        docLink.innerHTML = docLinkHtml;\n",
              "        element.appendChild(docLink);\n",
              "      }\n",
              "    </script>\n",
              "  </div>\n",
              "\n",
              "\n",
              "<div id=\"df-33148dbf-3e73-4191-b624-53707a7a01a5\">\n",
              "  <button class=\"colab-df-quickchart\" onclick=\"quickchart('df-33148dbf-3e73-4191-b624-53707a7a01a5')\"\n",
              "            title=\"Suggest charts\"\n",
              "            style=\"display:none;\">\n",
              "\n",
              "<svg xmlns=\"http://www.w3.org/2000/svg\" height=\"24px\"viewBox=\"0 0 24 24\"\n",
              "     width=\"24px\">\n",
              "    <g>\n",
              "        <path d=\"M19 3H5c-1.1 0-2 .9-2 2v14c0 1.1.9 2 2 2h14c1.1 0 2-.9 2-2V5c0-1.1-.9-2-2-2zM9 17H7v-7h2v7zm4 0h-2V7h2v10zm4 0h-2v-4h2v4z\"/>\n",
              "    </g>\n",
              "</svg>\n",
              "  </button>\n",
              "\n",
              "<style>\n",
              "  .colab-df-quickchart {\n",
              "      --bg-color: #E8F0FE;\n",
              "      --fill-color: #1967D2;\n",
              "      --hover-bg-color: #E2EBFA;\n",
              "      --hover-fill-color: #174EA6;\n",
              "      --disabled-fill-color: #AAA;\n",
              "      --disabled-bg-color: #DDD;\n",
              "  }\n",
              "\n",
              "  [theme=dark] .colab-df-quickchart {\n",
              "      --bg-color: #3B4455;\n",
              "      --fill-color: #D2E3FC;\n",
              "      --hover-bg-color: #434B5C;\n",
              "      --hover-fill-color: #FFFFFF;\n",
              "      --disabled-bg-color: #3B4455;\n",
              "      --disabled-fill-color: #666;\n",
              "  }\n",
              "\n",
              "  .colab-df-quickchart {\n",
              "    background-color: var(--bg-color);\n",
              "    border: none;\n",
              "    border-radius: 50%;\n",
              "    cursor: pointer;\n",
              "    display: none;\n",
              "    fill: var(--fill-color);\n",
              "    height: 32px;\n",
              "    padding: 0;\n",
              "    width: 32px;\n",
              "  }\n",
              "\n",
              "  .colab-df-quickchart:hover {\n",
              "    background-color: var(--hover-bg-color);\n",
              "    box-shadow: 0 1px 2px rgba(60, 64, 67, 0.3), 0 1px 3px 1px rgba(60, 64, 67, 0.15);\n",
              "    fill: var(--button-hover-fill-color);\n",
              "  }\n",
              "\n",
              "  .colab-df-quickchart-complete:disabled,\n",
              "  .colab-df-quickchart-complete:disabled:hover {\n",
              "    background-color: var(--disabled-bg-color);\n",
              "    fill: var(--disabled-fill-color);\n",
              "    box-shadow: none;\n",
              "  }\n",
              "\n",
              "  .colab-df-spinner {\n",
              "    border: 2px solid var(--fill-color);\n",
              "    border-color: transparent;\n",
              "    border-bottom-color: var(--fill-color);\n",
              "    animation:\n",
              "      spin 1s steps(1) infinite;\n",
              "  }\n",
              "\n",
              "  @keyframes spin {\n",
              "    0% {\n",
              "      border-color: transparent;\n",
              "      border-bottom-color: var(--fill-color);\n",
              "      border-left-color: var(--fill-color);\n",
              "    }\n",
              "    20% {\n",
              "      border-color: transparent;\n",
              "      border-left-color: var(--fill-color);\n",
              "      border-top-color: var(--fill-color);\n",
              "    }\n",
              "    30% {\n",
              "      border-color: transparent;\n",
              "      border-left-color: var(--fill-color);\n",
              "      border-top-color: var(--fill-color);\n",
              "      border-right-color: var(--fill-color);\n",
              "    }\n",
              "    40% {\n",
              "      border-color: transparent;\n",
              "      border-right-color: var(--fill-color);\n",
              "      border-top-color: var(--fill-color);\n",
              "    }\n",
              "    60% {\n",
              "      border-color: transparent;\n",
              "      border-right-color: var(--fill-color);\n",
              "    }\n",
              "    80% {\n",
              "      border-color: transparent;\n",
              "      border-right-color: var(--fill-color);\n",
              "      border-bottom-color: var(--fill-color);\n",
              "    }\n",
              "    90% {\n",
              "      border-color: transparent;\n",
              "      border-bottom-color: var(--fill-color);\n",
              "    }\n",
              "  }\n",
              "</style>\n",
              "\n",
              "  <script>\n",
              "    async function quickchart(key) {\n",
              "      const quickchartButtonEl =\n",
              "        document.querySelector('#' + key + ' button');\n",
              "      quickchartButtonEl.disabled = true;  // To prevent multiple clicks.\n",
              "      quickchartButtonEl.classList.add('colab-df-spinner');\n",
              "      try {\n",
              "        const charts = await google.colab.kernel.invokeFunction(\n",
              "            'suggestCharts', [key], {});\n",
              "      } catch (error) {\n",
              "        console.error('Error during call to suggestCharts:', error);\n",
              "      }\n",
              "      quickchartButtonEl.classList.remove('colab-df-spinner');\n",
              "      quickchartButtonEl.classList.add('colab-df-quickchart-complete');\n",
              "    }\n",
              "    (() => {\n",
              "      let quickchartButtonEl =\n",
              "        document.querySelector('#df-33148dbf-3e73-4191-b624-53707a7a01a5 button');\n",
              "      quickchartButtonEl.style.display =\n",
              "        google.colab.kernel.accessAllowed ? 'block' : 'none';\n",
              "    })();\n",
              "  </script>\n",
              "</div>\n",
              "\n",
              "  <div id=\"id_5ecfa2fd-1177-4a7b-8dea-495a32b5bded\">\n",
              "    <style>\n",
              "      .colab-df-generate {\n",
              "        background-color: #E8F0FE;\n",
              "        border: none;\n",
              "        border-radius: 50%;\n",
              "        cursor: pointer;\n",
              "        display: none;\n",
              "        fill: #1967D2;\n",
              "        height: 32px;\n",
              "        padding: 0 0 0 0;\n",
              "        width: 32px;\n",
              "      }\n",
              "\n",
              "      .colab-df-generate:hover {\n",
              "        background-color: #E2EBFA;\n",
              "        box-shadow: 0px 1px 2px rgba(60, 64, 67, 0.3), 0px 1px 3px 1px rgba(60, 64, 67, 0.15);\n",
              "        fill: #174EA6;\n",
              "      }\n",
              "\n",
              "      [theme=dark] .colab-df-generate {\n",
              "        background-color: #3B4455;\n",
              "        fill: #D2E3FC;\n",
              "      }\n",
              "\n",
              "      [theme=dark] .colab-df-generate:hover {\n",
              "        background-color: #434B5C;\n",
              "        box-shadow: 0px 1px 3px 1px rgba(0, 0, 0, 0.15);\n",
              "        filter: drop-shadow(0px 1px 2px rgba(0, 0, 0, 0.3));\n",
              "        fill: #FFFFFF;\n",
              "      }\n",
              "    </style>\n",
              "    <button class=\"colab-df-generate\" onclick=\"generateWithVariable('df')\"\n",
              "            title=\"Generate code using this dataframe.\"\n",
              "            style=\"display:none;\">\n",
              "\n",
              "  <svg xmlns=\"http://www.w3.org/2000/svg\" height=\"24px\"viewBox=\"0 0 24 24\"\n",
              "       width=\"24px\">\n",
              "    <path d=\"M7,19H8.4L18.45,9,17,7.55,7,17.6ZM5,21V16.75L18.45,3.32a2,2,0,0,1,2.83,0l1.4,1.43a1.91,1.91,0,0,1,.58,1.4,1.91,1.91,0,0,1-.58,1.4L9.25,21ZM18.45,9,17,7.55Zm-12,3A5.31,5.31,0,0,0,4.9,8.1,5.31,5.31,0,0,0,1,6.5,5.31,5.31,0,0,0,4.9,4.9,5.31,5.31,0,0,0,6.5,1,5.31,5.31,0,0,0,8.1,4.9,5.31,5.31,0,0,0,12,6.5,5.46,5.46,0,0,0,6.5,12Z\"/>\n",
              "  </svg>\n",
              "    </button>\n",
              "    <script>\n",
              "      (() => {\n",
              "      const buttonEl =\n",
              "        document.querySelector('#id_5ecfa2fd-1177-4a7b-8dea-495a32b5bded button.colab-df-generate');\n",
              "      buttonEl.style.display =\n",
              "        google.colab.kernel.accessAllowed ? 'block' : 'none';\n",
              "\n",
              "      buttonEl.onclick = () => {\n",
              "        google.colab.notebook.generateWithVariable('df');\n",
              "      }\n",
              "      })();\n",
              "    </script>\n",
              "  </div>\n",
              "\n",
              "    </div>\n",
              "  </div>\n"
            ]
          },
          "metadata": {},
          "execution_count": 1
        }
      ]
    },
    {
      "cell_type": "code",
      "source": [
        "import numpy as np\n",
        "import scipy.stats as stats"
      ],
      "metadata": {
        "id": "KIGJcZynghgI"
      },
      "execution_count": 2,
      "outputs": []
    },
    {
      "cell_type": "code",
      "execution_count": 3,
      "metadata": {
        "id": "KWm23YIVgNC6"
      },
      "outputs": [],
      "source": [
        "# グループAの結果\n",
        "n_a = 40  # 表示数\n",
        "obs_a = 2  # ヒット数\n",
        "\n",
        "# グループBの結果\n",
        "n_b = 25  # 表示数\n",
        "obs_b = 2  # ヒット数\n"
      ]
    },
    {
      "cell_type": "code",
      "source": [
        "# 各グループのコンバージョン率の推定値を計算\n",
        "\n",
        "p_a = obs_a / n_a\n",
        "p_b = obs_b / n_b\n"
      ],
      "metadata": {
        "id": "_GIPq1ungTTm"
      },
      "execution_count": 4,
      "outputs": []
    },
    {
      "cell_type": "code",
      "source": [
        "# コンバージョン率の差\n",
        "p_diff = p_b - p_a\n"
      ],
      "metadata": {
        "id": "arQb9a84ftgd"
      },
      "execution_count": 5,
      "outputs": []
    },
    {
      "cell_type": "code",
      "source": [
        "# 各グループのコンバージョン率の標準誤差（SE）を計算\n",
        "se_a = np.sqrt(p_a * (1 - p_a) / n_a)\n",
        "se_b = np.sqrt(p_b * (1 - p_b) / n_b)"
      ],
      "metadata": {
        "id": "1OvSb8mIfvkO"
      },
      "execution_count": 6,
      "outputs": []
    },
    {
      "cell_type": "code",
      "source": [
        "# コンバージョン率の差の標準誤差を計算\n",
        "se_diff = np.sqrt(se_a**2 + se_b**2)"
      ],
      "metadata": {
        "id": "Olt-Il6yfxaM"
      },
      "execution_count": 7,
      "outputs": []
    },
    {
      "cell_type": "code",
      "source": [
        "# tスコアを計算\n",
        "t_score = p_diff / se_diff\n"
      ],
      "metadata": {
        "id": "BX96iIZmfy8k"
      },
      "execution_count": 8,
      "outputs": []
    },
    {
      "cell_type": "code",
      "source": [
        "# 自由度を計算します。\n",
        "# ここではウェルチのt検定の自由度の近似式を使用。\n",
        "df = (se_diff**4) / ((se_a**4 / (n_a - 1)) + (se_b**4 / (n_b - 1)))"
      ],
      "metadata": {
        "id": "ZuM4dq9WgB9S"
      },
      "execution_count": 11,
      "outputs": []
    },
    {
      "cell_type": "code",
      "source": [
        "# p値を計算\n",
        "p_value = stats.t.sf(np.abs(t_score), df) * 2  # 両側検定\n",
        "\n",
        "t_score, p_value, df"
      ],
      "metadata": {
        "colab": {
          "base_uri": "https://localhost:8080/"
        },
        "id": "XGDwuCCAgC13",
        "outputId": "f96e333f-5cbb-44e1-dff4-93df4286f79c"
      },
      "execution_count": 12,
      "outputs": [
        {
          "output_type": "execute_result",
          "data": {
            "text/plain": [
              "(0.46673178317387404, 0.6430499461438455, 42.96447398744266)"
            ]
          },
          "metadata": {},
          "execution_count": 12
        }
      ]
    },
    {
      "cell_type": "code",
      "source": [
        "# 95%信頼区間を計算\n",
        "# t分布を使用して、信頼区間の境界を計算\n",
        "t_critical = stats.t.ppf(1 - 0.05 / 2, df)  # 95%信頼区間のt値\n",
        "ci_lower = p_diff - t_critical * se_diff  # 信頼区間の下限\n",
        "ci_upper = p_diff + t_critical * se_diff  # 信頼区間の上限\n",
        "\n",
        "ci_lower, ci_upper"
      ],
      "metadata": {
        "colab": {
          "base_uri": "https://localhost:8080/"
        },
        "id": "SlTXlPRTg3Z3",
        "outputId": "b639b23d-c8d8-4ec9-8749-b7c5e0aad736"
      },
      "execution_count": 13,
      "outputs": [
        {
          "output_type": "execute_result",
          "data": {
            "text/plain": [
              "(-0.09962951043724405, 0.15962951043724405)"
            ]
          },
          "metadata": {},
          "execution_count": 13
        }
      ]
    },
    {
      "cell_type": "markdown",
      "source": [
        "グループBのコンバージョン率がグループAよりも最大15.9%ポイント高く、最大9.9%ポイント低い可能性があることを示しています。 信頼区間にゼロが含まれているため、統計的に有意な差があるとは言えません。信頼区間の幅が広い（約25.8%ポイント）ことから、コンバージョン率の差に関する推定にはかなりの不確実性があることがわかります。"
      ],
      "metadata": {
        "id": "G2_DhrpCqPaG"
      }
    },
    {
      "cell_type": "markdown",
      "source": [
        "p値が0.643という結果は、ABテストで観察されたコンバージョン率の差について、統計的に有意な差がないと解釈できます。頻度論的アプローチでは、p値が一般的に設定される有意水準（ここでは0.05）よりも大きい場合、帰無仮説（ここではグループAとグループBの間にコンバージョン率の差がないという仮説）を棄却するには十分な証拠が得られていないと考えます。\n",
        "\n",
        "言い換えると、p値0.643は、観察されたコンバージョン率の差が偶然によっても生じうる範囲内であるということを意味しています。そのため、このテストではグループAとグループBの間に**統計的に意味のある差があるとは言えないという結論**に至ります。"
      ],
      "metadata": {
        "id": "UWHhXpaSiRoF"
      }
    },
    {
      "cell_type": "markdown",
      "source": [
        "**ベイズABテストと比較したときの頻度論ABテストのいくつかの欠点**\n",
        "\n",
        "1、***事前情報の組み込み***\n",
        "   過去のデータや専門家の意見といった事前情報を直接組み込むことができません。一方ベイズでは事前分布を通じてこれらの情報をモデルに組み込むことができます。\n",
        "\n",
        "2、***結果の解釈***\n",
        "   頻度論では、p値や信頼区間の解釈がややこしく、例えばp値が0.05の時、帰無仮説が真であると仮定した際に、観測された結果と同じかそれ以上に極端な結果が得られる確率が5%であると解釈します。ここでは単に帰無仮説の下での結果の確率を示すだけで、効果の大きさや方向についての情報は含みません。\n",
        "\n",
        "　一方ベイズでは効果が〇〇～△△の確率は××％であるというように、直観的に理解しやすくビジネスの意思決定に繋げやすいと思われます。\n",
        "\n",
        "3、***サンプルサイズの問題***\n",
        "   頻度論ではサンプルサイズが小さいと、実際には存在する差を見つけ出せなかったり（検出力が低い）、不確実性が高くなり、信頼区間が広がって結果の解釈が困難になることがあります。一方ベイズでは事前情報をモデルに組み込むことで、限られたデータからでも情報を引き出すことができます。\n",
        "\n",
        "4、***結論の出し方***  p値に基づく頻度論的な結論は、しばしば「有意か否か」という二分法的な結果になりがちです。一方ベイズでは、結果の不確実性が確率分布として表現されるため、より豊富な情報が得られます。"
      ],
      "metadata": {
        "id": "5wF_aQIRi06P"
      }
    },
    {
      "cell_type": "markdown",
      "source": [
        "***ABテストに限らずベイズ手法の危うさ***\n",
        "\n",
        "事前分布の選択が結果に影響を与える可能性があり、強い事前分布を使用する場合は、事前の知識がデータよりも結果に大きな影響を及ぼすことがあるので注意する必要があります。"
      ],
      "metadata": {
        "id": "j9Coj2X2oj1k"
      }
    }
  ]
}